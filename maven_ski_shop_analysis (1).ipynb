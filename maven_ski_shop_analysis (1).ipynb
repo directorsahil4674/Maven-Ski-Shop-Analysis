{
 "cells": [
  {
   "cell_type": "markdown",
   "id": "2d7d830c",
   "metadata": {},
   "source": [
    "# Final Project: Black Friday Excel Data"
   ]
  },
  {
   "cell_type": "code",
   "execution_count": 13,
   "id": "59343dde",
   "metadata": {},
   "outputs": [],
   "source": [
    "import openpyxl as xl\n",
    "\n",
    "# pprint prints dictionaries a bit more nicely than print\n",
    "from pprint import pprint\n",
    "from tax_calculator import tax_calc"
   ]
  },
  {
   "cell_type": "markdown",
   "id": "b323bd31",
   "metadata": {},
   "source": [
    "## Part 1\n",
    "\n",
    "### Data Cleaning and Exploration\n",
    "\n",
    "First, we are going to read the maven_ski_shop_data.xlsx file using openpyxl functions. \n"
   ]
  },
  {
   "cell_type": "code",
   "execution_count": 15,
   "id": "d4407995",
   "metadata": {},
   "outputs": [],
   "source": [
    "excel_file = xl.load_workbook(filename = 'maven_ski_shop_data.xlsx') \n"
   ]
  },
  {
   "cell_type": "markdown",
   "id": "0fdff76c",
   "metadata": {},
   "source": [
    "### Column Printer Function\n",
    "\n",
    "Since we'll be working with Excel frequently, let's create a helper function to print all the rows a specified column.\n",
    "\n",
    "This will help us view imported data without looking at Excel, and review the data we've written into columns without needing to save a file to review the changes.\n"
   ]
  },
  {
   "cell_type": "code",
   "execution_count": 17,
   "id": "239d64b3",
   "metadata": {},
   "outputs": [],
   "source": [
    "orders = excel_file['Orders_Info']"
   ]
  },
  {
   "cell_type": "code",
   "execution_count": 18,
   "id": "4d1b8dac",
   "metadata": {},
   "outputs": [],
   "source": [
    "def column_printer(orders, column_value): \n",
    "    list_val = []\n",
    "    for row in range(2, orders.max_row + 1): \n",
    "        list_val.append(orders[column_value + str(row)].value)\n",
    "    return list_val"
   ]
  },
  {
   "cell_type": "code",
   "execution_count": 19,
   "id": "8146bf34",
   "metadata": {},
   "outputs": [
    {
     "data": {
      "text/plain": [
       "['11/26/2021',\n",
       " '11/26/2021',\n",
       " '11/26/2021',\n",
       " '11/26/2021',\n",
       " '11/26/2021',\n",
       " '11/26/2021',\n",
       " '11/26/2021',\n",
       " '11/26/2021',\n",
       " '11/26/2021',\n",
       " '11/26/2021',\n",
       " '11/26/2021',\n",
       " '11/26/2021',\n",
       " '11/26/2021',\n",
       " '11/26/2021',\n",
       " '11/26/2021',\n",
       " '11/27/2021',\n",
       " '11/27/2021',\n",
       " '11/27/2021',\n",
       " '11/27/2021',\n",
       " '11/27/2021',\n",
       " '11/27/2021',\n",
       " '11/27/2021',\n",
       " '11/28/2021',\n",
       " '11/28/2021',\n",
       " '11/28/2021',\n",
       " '11/28/2021',\n",
       " '11/28/2021']"
      ]
     },
     "execution_count": 19,
     "metadata": {},
     "output_type": "execute_result"
    }
   ],
   "source": [
    "column_printer(orders, 'C')"
   ]
  },
  {
   "cell_type": "code",
   "execution_count": 20,
   "id": "b653f668",
   "metadata": {},
   "outputs": [
    {
     "data": {
      "text/plain": [
       "[15.98,\n",
       " 899.97,\n",
       " 799.97,\n",
       " 117.96,\n",
       " 5.99,\n",
       " 599.99,\n",
       " 24.99,\n",
       " 1799.94,\n",
       " 99.99,\n",
       " 254.95,\n",
       " 29.98,\n",
       " 99.99,\n",
       " 25.98,\n",
       " 649.98,\n",
       " 89.99,\n",
       " 119.99,\n",
       " 599.99,\n",
       " 649.98,\n",
       " 24.99,\n",
       " 99.99,\n",
       " 99.99,\n",
       " 5.99,\n",
       " 24.99,\n",
       " 999.96,\n",
       " 99.99,\n",
       " 399.97,\n",
       " 89.99]"
      ]
     },
     "execution_count": 20,
     "metadata": {},
     "output_type": "execute_result"
    }
   ],
   "source": [
    "column_printer(orders, 'D')"
   ]
  },
  {
   "cell_type": "markdown",
   "id": "b4b6d8ea",
   "metadata": {},
   "source": [
    "### Order Data Dictionary\n",
    "\n",
    "a dictionary with all the information in the 'Orders_Info' Worksheet.\n",
    "\n",
    "* The dictionary keys should be Order IDs (Column A)\n",
    "* The values should a list storing the data in the rest of the columns.\n",
    "* The columns in the list stored as values should be B, C, D, G, and H (after converting to list). \n",
    "* For example: The first order, column H should be the nested list: [10001, 10002]"
   ]
  },
  {
   "cell_type": "code",
   "execution_count": 22,
   "id": "0bbb4a35",
   "metadata": {},
   "outputs": [],
   "source": [
    "order_dict = {\n",
    "    orders[f'A{order}'].value: [\n",
    "        orders[f'B{order}'].value, \n",
    "        orders[f'C{order}'].value, \n",
    "        orders[f'D{order}'].value, \n",
    "        orders[f'E{order}'].value, \n",
    "        orders[f'G{order}'].value, \n",
    "        str(orders[f'H{order}'].value).split(', ')\n",
    "    ]\n",
    "    for order in range(2, orders.max_row + 1)\n",
    "}"
   ]
  },
  {
   "cell_type": "code",
   "execution_count": 23,
   "id": "4699a4ba-a0e4-4ed5-b509-ce258193ef24",
   "metadata": {},
   "outputs": [
    {
     "data": {
      "text/plain": [
       "{100000: ['C00004',\n",
       "  '11/26/2021',\n",
       "  15.98,\n",
       "  None,\n",
       "  'Sun Valley',\n",
       "  ['10001', '10002']],\n",
       " 100001: ['C00007',\n",
       "  '11/26/2021',\n",
       "  899.97,\n",
       "  None,\n",
       "  'Stowe',\n",
       "  ['10008', '10009', '10010']],\n",
       " 100002: ['C00015',\n",
       "  '11/26/2021',\n",
       "  799.97,\n",
       "  None,\n",
       "  'Mammoth',\n",
       "  ['10011', '10012', '10013']],\n",
       " 100003: ['C00016',\n",
       "  '11/26/2021',\n",
       "  117.96,\n",
       "  None,\n",
       "  'Stowe',\n",
       "  ['10002', '10003', '10004', '10006']],\n",
       " 100004: ['C00020', '11/26/2021', 5.99, None, 'Sun Valley', ['10001']],\n",
       " 100005: ['C00010', '11/26/2021', 599.99, None, 'Mammoth', ['10010']],\n",
       " 100006: ['C00006', '11/26/2021', 24.99, None, 'Mammoth', ['10004']],\n",
       " 100007: ['C00001',\n",
       "  '11/26/2021',\n",
       "  1799.94,\n",
       "  None,\n",
       "  'Mammoth',\n",
       "  ['10008', '10008', '10009', '10009', '10009', '10010', '10010']],\n",
       " 100008: ['C00003', '11/26/2021', 99.99, None, 'Sun Valley', ['10005']],\n",
       " 100009: ['C00014',\n",
       "  '11/26/2021',\n",
       "  254.95,\n",
       "  None,\n",
       "  'Sun Valley',\n",
       "  ['10002', '10003', '10004', '10006', '10007']],\n",
       " 100010: ['C00001', '11/26/2021', 29.98, None, 'Mammoth', ['10002', '10003']],\n",
       " 100011: ['C00001', '11/26/2021', 99.99, None, 'Mammoth', ['10005']],\n",
       " 100012: ['C00005',\n",
       "  '11/26/2021',\n",
       "  25.98,\n",
       "  None,\n",
       "  'Sun Valley',\n",
       "  ['10001', '10003']],\n",
       " 100013: ['C00008', '11/26/2021', 649.98, None, 'Stowe', ['10012', '10013']],\n",
       " 100014: ['C00013', '11/26/2021', 89.99, None, 'Sun Valley', ['10014']],\n",
       " 100020: ['C00004', '11/27/2021', 119.99, None, 'Sun Valley', ['10007']],\n",
       " 100021: ['C00017', '11/27/2021', 599.99, None, 'Stowe', ['10010']],\n",
       " 100022: ['C00019',\n",
       "  '11/27/2021',\n",
       "  649.98,\n",
       "  None,\n",
       "  'Sun Valley',\n",
       "  ['10012', '10013']],\n",
       " 100023: ['C00002', '11/27/2021', 24.99, None, 'Stowe', ['10004']],\n",
       " 100024: ['C00008', '11/27/2021', 99.99, None, 'Stowe', ['10005']],\n",
       " 100025: ['C00021', '11/27/2021', 99.99, None, 'Mammoth', ['10008']],\n",
       " 100026: ['C00022', '11/27/2021', 5.99, None, 'Sun Valley', ['10001']],\n",
       " 100027: ['C00006', '11/28/2021', 24.99, None, 'Mammoth', ['10002']],\n",
       " 100031: ['C00018',\n",
       "  '11/28/2021',\n",
       "  999.96,\n",
       "  None,\n",
       "  'Stowe',\n",
       "  ['10005', '10008', '10009', '10010']],\n",
       " 100032: ['C00018', '11/28/2021', 99.99, None, 'Stowe', ['10006']],\n",
       " 100033: ['C00010',\n",
       "  '11/28/2021',\n",
       "  399.97,\n",
       "  None,\n",
       "  'Mammoth',\n",
       "  ['10005', '10008', '10009']],\n",
       " 100034: ['C00016', '11/28/2021', 89.99, None, 'Stowe', ['10014']]}"
      ]
     },
     "execution_count": 23,
     "metadata": {},
     "output_type": "execute_result"
    }
   ],
   "source": [
    "order_dict"
   ]
  },
  {
   "cell_type": "markdown",
   "id": "0a01af28",
   "metadata": {},
   "source": [
    "### Sales Tax Calculation \n",
    "\n",
    "We need to calculate the sales tax and total amount owed for every order in this sheet.\n",
    "\n",
    "* If location is Sun Valley, apply a sales tax of 8%\n",
    "* If location is Mammoth, apply a sales tax of 7.75%.\n",
    "* If location is Stowe, apply a sales tax of 6%\n",
    "\n"
   ]
  },
  {
   "cell_type": "code",
   "execution_count": null,
   "id": "4e1c1e6a",
   "metadata": {},
   "outputs": [],
   "source": []
  },
  {
   "cell_type": "code",
   "execution_count": 25,
   "id": "a0d8d395",
   "metadata": {},
   "outputs": [
    {
     "data": {
      "text/plain": [
       "{100000: ['C00004',\n",
       "  '11/26/2021',\n",
       "  15.98,\n",
       "  1.28,\n",
       "  17.26,\n",
       "  None,\n",
       "  'Sun Valley',\n",
       "  ['10001', '10002']],\n",
       " 100001: ['C00007',\n",
       "  '11/26/2021',\n",
       "  899.97,\n",
       "  54.0,\n",
       "  953.97,\n",
       "  None,\n",
       "  'Stowe',\n",
       "  ['10008', '10009', '10010']],\n",
       " 100002: ['C00015',\n",
       "  '11/26/2021',\n",
       "  799.97,\n",
       "  60.0,\n",
       "  859.97,\n",
       "  None,\n",
       "  'Mammoth',\n",
       "  ['10011', '10012', '10013']],\n",
       " 100003: ['C00016',\n",
       "  '11/26/2021',\n",
       "  117.96,\n",
       "  7.08,\n",
       "  125.04,\n",
       "  None,\n",
       "  'Stowe',\n",
       "  ['10002', '10003', '10004', '10006']],\n",
       " 100004: ['C00020',\n",
       "  '11/26/2021',\n",
       "  5.99,\n",
       "  0.48,\n",
       "  6.47,\n",
       "  None,\n",
       "  'Sun Valley',\n",
       "  ['10001']],\n",
       " 100005: ['C00010',\n",
       "  '11/26/2021',\n",
       "  599.99,\n",
       "  45.0,\n",
       "  644.99,\n",
       "  None,\n",
       "  'Mammoth',\n",
       "  ['10010']],\n",
       " 100006: ['C00006',\n",
       "  '11/26/2021',\n",
       "  24.99,\n",
       "  1.87,\n",
       "  26.86,\n",
       "  None,\n",
       "  'Mammoth',\n",
       "  ['10004']],\n",
       " 100007: ['C00001',\n",
       "  '11/26/2021',\n",
       "  1799.94,\n",
       "  135.0,\n",
       "  1934.94,\n",
       "  None,\n",
       "  'Mammoth',\n",
       "  ['10008', '10008', '10009', '10009', '10009', '10010', '10010']],\n",
       " 100008: ['C00003',\n",
       "  '11/26/2021',\n",
       "  99.99,\n",
       "  8.0,\n",
       "  107.99,\n",
       "  None,\n",
       "  'Sun Valley',\n",
       "  ['10005']],\n",
       " 100009: ['C00014',\n",
       "  '11/26/2021',\n",
       "  254.95,\n",
       "  20.4,\n",
       "  275.35,\n",
       "  None,\n",
       "  'Sun Valley',\n",
       "  ['10002', '10003', '10004', '10006', '10007']],\n",
       " 100010: ['C00001',\n",
       "  '11/26/2021',\n",
       "  29.98,\n",
       "  2.25,\n",
       "  32.23,\n",
       "  None,\n",
       "  'Mammoth',\n",
       "  ['10002', '10003']],\n",
       " 100011: ['C00001',\n",
       "  '11/26/2021',\n",
       "  99.99,\n",
       "  7.5,\n",
       "  107.49,\n",
       "  None,\n",
       "  'Mammoth',\n",
       "  ['10005']],\n",
       " 100012: ['C00005',\n",
       "  '11/26/2021',\n",
       "  25.98,\n",
       "  2.08,\n",
       "  28.06,\n",
       "  None,\n",
       "  'Sun Valley',\n",
       "  ['10001', '10003']],\n",
       " 100013: ['C00008',\n",
       "  '11/26/2021',\n",
       "  649.98,\n",
       "  39.0,\n",
       "  688.98,\n",
       "  None,\n",
       "  'Stowe',\n",
       "  ['10012', '10013']],\n",
       " 100014: ['C00013',\n",
       "  '11/26/2021',\n",
       "  89.99,\n",
       "  7.2,\n",
       "  97.19,\n",
       "  None,\n",
       "  'Sun Valley',\n",
       "  ['10014']],\n",
       " 100020: ['C00004',\n",
       "  '11/27/2021',\n",
       "  119.99,\n",
       "  9.6,\n",
       "  129.59,\n",
       "  None,\n",
       "  'Sun Valley',\n",
       "  ['10007']],\n",
       " 100021: ['C00017',\n",
       "  '11/27/2021',\n",
       "  599.99,\n",
       "  36.0,\n",
       "  635.99,\n",
       "  None,\n",
       "  'Stowe',\n",
       "  ['10010']],\n",
       " 100022: ['C00019',\n",
       "  '11/27/2021',\n",
       "  649.98,\n",
       "  52.0,\n",
       "  701.98,\n",
       "  None,\n",
       "  'Sun Valley',\n",
       "  ['10012', '10013']],\n",
       " 100023: ['C00002', '11/27/2021', 24.99, 1.5, 26.49, None, 'Stowe', ['10004']],\n",
       " 100024: ['C00008',\n",
       "  '11/27/2021',\n",
       "  99.99,\n",
       "  6.0,\n",
       "  105.99,\n",
       "  None,\n",
       "  'Stowe',\n",
       "  ['10005']],\n",
       " 100025: ['C00021',\n",
       "  '11/27/2021',\n",
       "  99.99,\n",
       "  7.5,\n",
       "  107.49,\n",
       "  None,\n",
       "  'Mammoth',\n",
       "  ['10008']],\n",
       " 100026: ['C00022',\n",
       "  '11/27/2021',\n",
       "  5.99,\n",
       "  0.48,\n",
       "  6.47,\n",
       "  None,\n",
       "  'Sun Valley',\n",
       "  ['10001']],\n",
       " 100027: ['C00006',\n",
       "  '11/28/2021',\n",
       "  24.99,\n",
       "  1.87,\n",
       "  26.86,\n",
       "  None,\n",
       "  'Mammoth',\n",
       "  ['10002']],\n",
       " 100031: ['C00018',\n",
       "  '11/28/2021',\n",
       "  999.96,\n",
       "  60.0,\n",
       "  1059.96,\n",
       "  None,\n",
       "  'Stowe',\n",
       "  ['10005', '10008', '10009', '10010']],\n",
       " 100032: ['C00018',\n",
       "  '11/28/2021',\n",
       "  99.99,\n",
       "  6.0,\n",
       "  105.99,\n",
       "  None,\n",
       "  'Stowe',\n",
       "  ['10006']],\n",
       " 100033: ['C00010',\n",
       "  '11/28/2021',\n",
       "  399.97,\n",
       "  30.0,\n",
       "  429.97,\n",
       "  None,\n",
       "  'Mammoth',\n",
       "  ['10005', '10008', '10009']],\n",
       " 100034: ['C00016', '11/28/2021', 89.99, 5.4, 95.39, None, 'Stowe', ['10014']]}"
      ]
     },
     "execution_count": 25,
     "metadata": {},
     "output_type": "execute_result"
    }
   ],
   "source": [
    "\n",
    "for values in order_dict.values(): \n",
    "    if values[4] == 'Sun Valley': \n",
    "        val = tax_calc(values[2], .08) \n",
    "    elif values[4] == \"Mammoth\": \n",
    "        val = tax_calc(values[2], .075)\n",
    "    else: \n",
    "        val = tax_calc(values[2], .06)\n",
    "    values.insert(3, val[1])\n",
    "    values.insert(4, val[2]) \n",
    "\n",
    "order_dict\n"
   ]
  },
  {
   "cell_type": "markdown",
   "id": "5d3460da",
   "metadata": {},
   "source": [
    "### Write Sales Tax and Total Into the Excel Sheet\n",
    "\n",
    "Sales tax and total you just calculated into the workbook, then save!\n"
   ]
  },
  {
   "cell_type": "code",
   "execution_count": 27,
   "id": "957e2656",
   "metadata": {},
   "outputs": [],
   "source": [
    "for i, val in enumerate(order_dict.values(), start = 2):\n",
    "    orders[f'E{i}'].value = val[3] \n",
    "    orders[f'F{i}'].value = val[4]\n"
   ]
  },
  {
   "cell_type": "code",
   "execution_count": 28,
   "id": "0ed681d9",
   "metadata": {},
   "outputs": [
    {
     "name": "stdout",
     "output_type": "stream",
     "text": [
      "Saved\n"
     ]
    }
   ],
   "source": [
    "excel_file.save('maven_ski_shop_data_fixed.xlsx') \n",
    "if excel_file: \n",
    "    print('Saved') \n",
    "else: \n",
    "    print('No') "
   ]
  },
  {
   "cell_type": "markdown",
   "id": "328ba670",
   "metadata": {},
   "source": [
    "## Part 2\n",
    "\n",
    "### Analysis Time!\n",
    "After fixing the data, we jumped over to the analysis part. \n",
    "Questions which is being answered here are as follows: \n",
    "1. Total SUM of Subtotals, Taxes, Total Revenue generated.\n",
    "2. Average value of Subtotals.\n",
    "3. Total Unique customers we have and Orders Per Customers.\n",
    "4. Total Number of Items we sold.\n",
    "5. Total Sales By Location.\n",
    "\n",
    "This has led us to an in-depth analysis of the data which is essential to understand where exactly our business is going and what the key areas where we need to focus on. "
   ]
  },
  {
   "cell_type": "code",
   "execution_count": 80,
   "id": "de2749ac-95e3-4fa6-ae2d-cf72c65d4c58",
   "metadata": {},
   "outputs": [
    {
     "name": "stdout",
     "output_type": "stream",
     "text": [
      "9338.96\n"
     ]
    }
   ],
   "source": [
    "dictionary = order_dict.values()\n",
    "def column_sum(dictionary, index_val): \n",
    "    list_val = [i[index_val] for i in dictionary]\n",
    "    final_sum = round(sum(list_val), 2)  \n",
    "    print(final_sum) \n",
    "column_sum(dictionary, 4)\n",
    "\n",
    "# column_sum(dictionary, 2)\n",
    "# for row in range(2, orders.max_row + 1): \n",
    "#     for i in dictionary: \n",
    "#         a = a + i[row]\n"
   ]
  },
  {
   "cell_type": "markdown",
   "id": "d83413fe",
   "metadata": {},
   "source": [
    "#### Sum The Subtotal, Tax, and Total Columns \n",
    "\n",
    "Now that we have our column sum function, calculate the sum of:\n",
    "\n",
    "* Subtotals\n",
    "* Taxes\n",
    "* Totals"
   ]
  },
  {
   "cell_type": "code",
   "execution_count": 32,
   "id": "f96d2f45",
   "metadata": {
    "scrolled": true
   },
   "outputs": [
    {
     "name": "stdout",
     "output_type": "stream",
     "text": [
      "8731.47\n",
      "None\n",
      "607.49\n",
      "None\n",
      "9338.96\n",
      "None\n"
     ]
    }
   ],
   "source": [
    "print(column_sum(dictionary, 2))\n",
    "print(column_sum(dictionary, 3))\n",
    "print(column_sum(dictionary, 4))"
   ]
  },
  {
   "cell_type": "markdown",
   "id": "b2720242",
   "metadata": {},
   "source": [
    "### What is the average of our subtotals?\n",
    "\n",
    "Calculate the average value of our transactions.\n",
    "\n",
    "Remember that each entry in your dictionary is one order."
   ]
  },
  {
   "cell_type": "code",
   "execution_count": 34,
   "id": "1aa1093a",
   "metadata": {},
   "outputs": [
    {
     "name": "stdout",
     "output_type": "stream",
     "text": [
      "323.39\n"
     ]
    }
   ],
   "source": [
    "list_val = [x[2] for x in order_dict.values()]\n",
    "print(round(sum(list_val) / len(list_val), 2))"
   ]
  },
  {
   "cell_type": "markdown",
   "id": "fa8f7168",
   "metadata": {},
   "source": [
    "### How many unique customers did we have?\n",
    "\n",
    "Calculate the total number of unique customers in our sales data.\n",
    "\n",
    "Then calculate the number of orders per customer (total orders / unique customers)"
   ]
  },
  {
   "cell_type": "code",
   "execution_count": 36,
   "id": "7af182d6",
   "metadata": {},
   "outputs": [
    {
     "data": {
      "text/plain": [
       "1.42"
      ]
     },
     "execution_count": 36,
     "metadata": {},
     "output_type": "execute_result"
    }
   ],
   "source": [
    "Unique_customers= len({x[0] for x in dictionary}) \n",
    "\n",
    "orders_per_customers = len(order_dict) / Unique_customers\n",
    "\n",
    "round(orders_per_customers, 2) "
   ]
  },
  {
   "cell_type": "markdown",
   "id": "ff483459",
   "metadata": {},
   "source": [
    "### How many items in total did we sell?\n",
    "\n",
    "Calculate the total number of items we sold in across all orders. \n",
    "\n",
    "This information is in Column H, which should be the last element in order_dict's values."
   ]
  },
  {
   "cell_type": "code",
   "execution_count": 38,
   "id": "2f7d15ac",
   "metadata": {},
   "outputs": [
    {
     "name": "stdout",
     "output_type": "stream",
     "text": [
      "54\n"
     ]
    }
   ],
   "source": [
    "list_val = order_dict.values()\n",
    "dict_val = sum([len(i[7]) for i in list_val])\n",
    "print(dict_val)\n"
   ]
  },
  {
   "cell_type": "markdown",
   "id": "05abd311",
   "metadata": {},
   "source": [
    "### Sales By Location\n",
    "\n",
    "the sum of subtotals by location.\n",
    "\n",
    " output looks like \n",
    "{'Location1': sum of subtotals for 'Location1'}\n",
    "\n",
    "With an entry for each location."
   ]
  },
  {
   "cell_type": "code",
   "execution_count": 40,
   "id": "960a8d1b",
   "metadata": {},
   "outputs": [
    {
     "data": {
      "text/plain": [
       "{'Sun Valley': 1268.84,\n",
       " 'Stowe': 3582.8199999999993,\n",
       " 'Mammoth': 3879.8099999999995}"
      ]
     },
     "execution_count": 40,
     "metadata": {},
     "output_type": "execute_result"
    }
   ],
   "source": [
    "location_dict = {}\n",
    "\n",
    "for i in list_val: \n",
    "    location = i[6]\n",
    "    \n",
    "    if location not in location_dict: \n",
    "        location_dict[location] = 0\n",
    "    location_dict[location] += i[2] \n",
    "\n",
    "location_dict\n"
   ]
  },
  {
   "cell_type": "code",
   "execution_count": 41,
   "id": "1f76715b-a93f-4f45-85a9-ef94865e5c15",
   "metadata": {},
   "outputs": [
    {
     "data": {
      "text/plain": [
       "{'Sun Valley': 1268.84,\n",
       " 'Stowe': 3582.8199999999993,\n",
       " 'Mammoth': 3879.8099999999995}"
      ]
     },
     "execution_count": 41,
     "metadata": {},
     "output_type": "execute_result"
    }
   ],
   "source": [
    "# Using get method: \n",
    "location_dict = {}\n",
    "\n",
    "for i in list_val: \n",
    "    location = i[6]\n",
    "\n",
    "    location_dict[location] = location_dict.get(location, 0) + i[2]\n",
    "\n",
    "location_dict\n",
    "\n",
    "#if location exists, then we are going to plus that with i[2], or else we will assign the value 0 to the location key. "
   ]
  },
  {
   "cell_type": "markdown",
   "id": "a9ffa683",
   "metadata": {},
   "source": [
    "### Aggregator Function: Grouped by the categories over aggregated subtotals.\n",
    "\n",
    "\n",
    "* A dictionary with the categories as keys, and the sum by category as value.\n",
    "\n",
    "Once you've done so use your function to sum totals by date and customer_id."
   ]
  },
  {
   "cell_type": "code",
   "execution_count": 43,
   "id": "32c8ca53",
   "metadata": {},
   "outputs": [],
   "source": [
    "def aggregator(index_col_1, index_col_2, dict):\n",
    "    category_dict = {}\n",
    "\n",
    "    for i in dict.values(): \n",
    "        category = i[index_col_1]\n",
    "        category_dict[category] = category_dict.get(category, 0) + i[index_col_2]\n",
    "    return category_dict"
   ]
  },
  {
   "cell_type": "code",
   "execution_count": 44,
   "id": "b034d599",
   "metadata": {},
   "outputs": [
    {
     "data": {
      "text/plain": [
       "{'11/26/2021': 5906.79, '11/27/2021': 1714.0, '11/28/2021': 1718.17}"
      ]
     },
     "execution_count": 44,
     "metadata": {},
     "output_type": "execute_result"
    }
   ],
   "source": [
    "# index 1 = date, index 4 = total\n",
    "aggregator(1, 4, order_dict)"
   ]
  },
  {
   "cell_type": "code",
   "execution_count": 45,
   "id": "92703b3d",
   "metadata": {},
   "outputs": [
    {
     "data": {
      "text/plain": [
       "{'C00004': 146.85,\n",
       " 'C00007': 953.97,\n",
       " 'C00015': 859.97,\n",
       " 'C00016': 220.43,\n",
       " 'C00020': 6.47,\n",
       " 'C00010': 1074.96,\n",
       " 'C00006': 53.72,\n",
       " 'C00001': 2074.66,\n",
       " 'C00003': 107.99,\n",
       " 'C00014': 275.35,\n",
       " 'C00005': 28.06,\n",
       " 'C00008': 794.97,\n",
       " 'C00013': 97.19,\n",
       " 'C00017': 635.99,\n",
       " 'C00019': 701.98,\n",
       " 'C00002': 26.49,\n",
       " 'C00021': 107.49,\n",
       " 'C00022': 6.47,\n",
       " 'C00018': 1165.95}"
      ]
     },
     "execution_count": 45,
     "metadata": {},
     "output_type": "execute_result"
    }
   ],
   "source": [
    "# index 0 = customer_id\n",
    "aggregator(0, 4, order_dict)"
   ]
  },
  {
   "cell_type": "code",
   "execution_count": null,
   "id": "03483866",
   "metadata": {},
   "outputs": [],
   "source": []
  }
 ],
 "metadata": {
  "kernelspec": {
   "display_name": "Python 3 (ipykernel)",
   "language": "python",
   "name": "python3"
  },
  "language_info": {
   "codemirror_mode": {
    "name": "ipython",
    "version": 3
   },
   "file_extension": ".py",
   "mimetype": "text/x-python",
   "name": "python",
   "nbconvert_exporter": "python",
   "pygments_lexer": "ipython3",
   "version": "3.11.7"
  }
 },
 "nbformat": 4,
 "nbformat_minor": 5
}
